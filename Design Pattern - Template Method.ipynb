{
 "cells": [
  {
   "cell_type": "markdown",
   "metadata": {},
   "source": [
    "# Design Pattern - Template Method"
   ]
  },
  {
   "cell_type": "markdown",
   "metadata": {},
   "source": [
    "> Wikipedia: In software engineering, the template method pattern is a behavioral design pattern that **defines the program skeleton of an algorithm in an operation**, **deferring some steps to subclasses**. It lets one redefine certain steps of an algorithm without changing the algorithm's structure.\n",
    "\n",
    "1. 父類別只定義 methods 的框架但不實作。\n",
    "2. 子類別中以不修改框架的原則下實作 methods。"
   ]
  },
  {
   "cell_type": "code",
   "execution_count": 3,
   "metadata": {},
   "outputs": [
    {
     "name": "stdout",
     "output_type": "stream",
     "text": [
      "=====start BinaryClassification pipeline=====\n",
      "Binary Classifier pipeline：\n",
      " 資料源：['vp_bank.event_cc_txn', 'vp_bank.chp_event_cust']\n",
      "抽樣：underSampling\n",
      "前處理：stringIndexer, onehotEncoder, vectorAssembler\n",
      "特徵工程：mathTransform, dimensionReduction\n",
      "模型：SVM\n",
      "結果評估：Recall, Precision, AUC\n",
      "\n",
      "=====start MulticlassCalssification pipeline=====\n",
      "Multiclass Calssifier pipeline：\n",
      " 資料源：['vp_bank.event_cc_txn', 'vp_bank.chp_event_cust', 'vp_bank.acct_cc_daily']\n",
      "前處理：stringIndexer, labelEncoder, vectorAssembler\n",
      "特徵工程：mathTransform, dimensionReduction\n",
      "模型：SVM, OneVsRestModel\n",
      "結果評估：Recall, Precision, F1-Score\n",
      "\n",
      "=====end of pipeline=====\n"
     ]
    }
   ],
   "source": [
    "#呼叫 abc library, 解決 Python 沒有抽象類別（abstract class）的問題。\n",
    "import abc\n",
    "\n",
    "class MachineLearningPipeline(object):\n",
    "    \"\"\"\n",
    "    用abc定義抽象化的機器學習流程父類別，並定義流程執行順序。\n",
    "    父類別的 method 可以自行決定 parameter 的定義，\n",
    "    這裏的範例限制 get_sourcedata method 的 parameter 只能輸入 data 參數，\n",
    "    好處是可以控制子類別的彈性。\n",
    "    其他 methods 則允許任何參數的輸入，\n",
    "    好處是當子類別實作同一個 methods 但需要傳不同參數時仍可以調用。\n",
    "    \"\"\"\n",
    "    __metaclass__ = abc.ABCMeta\n",
    "    \n",
    "    @abc.abstractmethod\n",
    "    def get_sourcedata(self, data):\n",
    "        pass\n",
    "    \n",
    "    @abc.abstractmethod\n",
    "    def preprocess_data(self, *args, **kwargs):\n",
    "        pass\n",
    "    \n",
    "    @abc.abstractmethod\n",
    "    def engineer_feature(self, *args, **kwargs):\n",
    "        pass\n",
    "    \n",
    "    @abc.abstractmethod\n",
    "    def fit_model(self, *args, **kwargs):\n",
    "        pass\n",
    "    \n",
    "    @abc.abstractmethod\n",
    "    def evaluate_result(self, *args, **kwargs):\n",
    "        pass\n",
    "    \n",
    "    # Hook method\n",
    "    def sample_data(self, *args, **kwargs):\n",
    "        pass\n",
    "    \n",
    "    #定義method的執行流程\n",
    "    def exexute_pipeline(self, data):\n",
    "        self.get_sourcedata(data)\n",
    "        self.sample_data()\n",
    "        self.preprocess_data()\n",
    "        self.engineer_feature()\n",
    "        self.fit_model()\n",
    "        self.evaluate_result()\n",
    "        \n",
    "\n",
    "class BinaryClassification(MachineLearningPipeline):\n",
    "    \"\"\"\n",
    "    實作一個二元分類的類別，實作父類別抽象後的 methods\n",
    "    \"\"\"\n",
    "    def __init__(self):\n",
    "        self.pipeline = \"\"\n",
    "    \n",
    "    def get_sourcedata(self, data):\n",
    "        self.pipeline += '資料源：' + str(data) + '\\n'\n",
    "        return self\n",
    "    \n",
    "    def sample_data(self):\n",
    "        self.pipeline += '抽樣：' + 'underSampling' + '\\n'\n",
    "        return self\n",
    "    \n",
    "    def preprocess_data(self):\n",
    "        self.pipeline += '前處理：' + 'stringIndexer, onehotEncoder, vectorAssembler' + '\\n'\n",
    "        return self\n",
    "    \n",
    "    def engineer_feature(self):\n",
    "        self.pipeline += '特徵工程：' + 'mathTransform, dimensionReduction' + '\\n'\n",
    "        return self\n",
    "\n",
    "    def fit_model(self):\n",
    "        self.pipeline += '模型：' + 'SVM' + '\\n'\n",
    "        return self\n",
    "    \n",
    "    def evaluate_result(self):\n",
    "        self.pipeline += '結果評估：' + 'Recall, Precision, AUC' + '\\n'\n",
    "        return self\n",
    "    \n",
    "    \n",
    "class MulticlassCalssification(MachineLearningPipeline):\n",
    "    \"\"\"\n",
    "    實作一個多元分類的類別，同樣實作父類別抽象後的 methods\n",
    "    \"\"\"\n",
    "    def __init__(self):\n",
    "        self.pipeline = \"\"\n",
    "    \n",
    "    def get_sourcedata(self, data):\n",
    "        self.pipeline += '資料源：' + str(data) + '\\n'\n",
    "        return self\n",
    "    \n",
    "    def preprocess_data(self):\n",
    "        self.pipeline += '前處理：' + 'stringIndexer, labelEncoder, vectorAssembler' + '\\n'\n",
    "        return self\n",
    "    \n",
    "    def engineer_feature(self):\n",
    "        self.pipeline += '特徵工程：' + 'mathTransform, dimensionReduction' + '\\n'\n",
    "        return self\n",
    "\n",
    "    def fit_model(self):\n",
    "        self.pipeline += '模型：' + 'SVM, OneVsRestModel' + '\\n'\n",
    "        return self\n",
    "\n",
    "    def evaluate_result(self):\n",
    "        self.pipeline += '結果評估：' + 'Recall, Precision, F1-Score' + '\\n'\n",
    "        return self    \n",
    "        \n",
    "if __name__ == '__main__':\n",
    "    bin_class = BinaryClassification()\n",
    "    multi_class = MulticlassCalssification()\n",
    "    bin_data = ['vp_bank.event_cc_txn', 'vp_bank.chp_event_cust']\n",
    "    multi_data = ['vp_bank.event_cc_txn', 'vp_bank.chp_event_cust', 'vp_bank.acct_cc_daily']\n",
    "    bin_class.exexute_pipeline(bin_data)\n",
    "    multi_class.exexute_pipeline(multi_data)\n",
    "    print('=====start BinaryClassification pipeline=====')\n",
    "    print('Binary Classifier pipeline：\\n', bin_class.pipeline)\n",
    "    print('=====start MulticlassCalssification pipeline=====')\n",
    "    print('Multiclass Calssifier pipeline：\\n', multi_class.pipeline)\n",
    "    print('=====end of pipeline=====')"
   ]
  },
  {
   "cell_type": "markdown",
   "metadata": {},
   "source": [
    "# Tip: 子類別的流程有些許不同時該如何處理？"
   ]
  },
  {
   "cell_type": "markdown",
   "metadata": {},
   "source": [
    "### Hook method\n",
    "可以在父類別增加供 override 的 hook method, 子類別之間的實作流程不一定完全一樣，此時可以使用 hook 的方式微調流程。 "
   ]
  },
  {
   "cell_type": "markdown",
   "metadata": {},
   "source": [
    "# 解決了什麼問題"
   ]
  },
  {
   "cell_type": "markdown",
   "metadata": {},
   "source": [
    "透過將通用算法抽象出來，解決一些方法通用，卻在每一個子類都重寫了這一方法。"
   ]
  },
  {
   "cell_type": "markdown",
   "metadata": {},
   "source": [
    "# 適用性"
   ]
  },
  {
   "cell_type": "markdown",
   "metadata": {},
   "source": [
    "1. 當你只希望客戶端擴展某個特定步驟，而不是整個程式流程或其結構時，可使用template method pattern。\n",
    "2. Template method 將整個流程轉換為一系列獨立的步驟，以便子類別能對其進行擴展，同時還可讓抽象化父類別中所定義的結構保持完整。\n",
    "3. 當多個類別的流程除一些細微不同之外幾乎完全一樣時，你可使用該模式。但其後果就是，只要算法發生變化，你就可能需要修改所有的類。\n",
    "4. 在將算法轉換為 template method 時，你可將相似的實現步驟提取到父類別中以去除重複代碼。子類別間各自不同的程式碼可繼續保留在子類別中。"
   ]
  },
  {
   "cell_type": "markdown",
   "metadata": {},
   "source": [
    "# 資料科學的相關場景"
   ]
  },
  {
   "cell_type": "markdown",
   "metadata": {},
   "source": [
    "1. 自己認為滿適合定義 ml pipeline 的藍圖，例如 Feature Engineering 裡面**類別變數**和**數值變數**雖然屬性不同，但可能都會有一些操作流程類似，也可以抽象出來再到子類別實作。\n",
    "2. 我認為跟 Tensorflow 1.x版的 placeholder 有點像，先宣告空的 tensor 但沒有任何動作，後續執行階段才會餵資料進去開始執行。"
   ]
  },
  {
   "cell_type": "markdown",
   "metadata": {},
   "source": [
    "# 與其他design pattern的比較"
   ]
  },
  {
   "cell_type": "markdown",
   "metadata": {},
   "source": [
    "1. 之前介紹過的 Factory method 可以視為是 template method 的一個特殊形式。 (Head First Design Patterns book)"
   ]
  },
  {
   "cell_type": "code",
   "execution_count": null,
   "metadata": {},
   "outputs": [],
   "source": []
  }
 ],
 "metadata": {
  "kernelspec": {
   "display_name": "Python 3",
   "language": "python",
   "name": "python3"
  },
  "language_info": {
   "codemirror_mode": {
    "name": "ipython",
    "version": 3
   },
   "file_extension": ".py",
   "mimetype": "text/x-python",
   "name": "python",
   "nbconvert_exporter": "python",
   "pygments_lexer": "ipython3",
   "version": "3.7.4"
  }
 },
 "nbformat": 4,
 "nbformat_minor": 2
}
